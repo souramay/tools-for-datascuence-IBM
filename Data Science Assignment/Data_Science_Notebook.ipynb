{
  "nbformat": 4,
  "nbformat_minor": 0,
  "metadata": {
    "colab": {
      "provenance": []
    },
    "kernelspec": {
      "name": "python3",
      "display_name": "Python 3"
    },
    "language_info": {
      "name": "python"
    }
  },
  "cells": [
    {
      "cell_type": "markdown",
      "metadata": {
        "id": "6e9a0a5c"
      },
      "source": [
        "# Task\n",
        "Create a Jupyter Notebook with markdown cells for the title, introduction, data science languages, data science libraries, a table of data science tools, arithmetic expression examples, objectives, and author's name. Include code cells to multiply and add numbers and convert minutes to hours."
      ]
    },
    {
      "cell_type": "markdown",
      "metadata": {
        "id": "cb367e14"
      },
      "source": [
        "\n",
        "\n",
        "Create a markdown cell with the title of the notebook.\n"
      ]
    },
    {
      "cell_type": "code",
      "metadata": {
        "colab": {
          "base_uri": "https://localhost:8080/",
          "height": 74
        },
        "id": "f4a200a5",
        "outputId": "d22e3dec-5a02-46e2-a8cc-29173f0b4b75"
      },
      "source": [
        "%%markdown\n",
        "# Data Science Ecosystem"
      ],
      "execution_count": 16,
      "outputs": [
        {
          "output_type": "display_data",
          "data": {
            "text/plain": [
              "<IPython.core.display.Markdown object>"
            ],
            "text/markdown": "# Data Science Ecosystem\n"
          },
          "metadata": {}
        }
      ]
    },
    {
      "cell_type": "markdown",
      "metadata": {
        "id": "04546a40"
      },
      "source": [
        "## Create a markdown cell for an introduction.\n",
        "\n",
        "### Subtask:\n",
        "Create a markdown cell for an introduction.\n"
      ]
    },
    {
      "cell_type": "code",
      "metadata": {
        "colab": {
          "base_uri": "https://localhost:8080/",
          "height": 64
        },
        "id": "f7c618ee",
        "outputId": "b264380e-8bd7-4811-be38-0e3ae93cadda"
      },
      "source": [
        "%%markdown\n",
        "This notebook is created to demonstrate the understanding of the Data Science ecosystem, including popular languages, libraries, and tools used in the field. It also includes examples of basic arithmetic operations and data conversions."
      ],
      "execution_count": 13,
      "outputs": [
        {
          "output_type": "display_data",
          "data": {
            "text/plain": [
              "<IPython.core.display.Markdown object>"
            ],
            "text/markdown": "This notebook is created to demonstrate the understanding of the Data Science ecosystem, including popular languages, libraries, and tools used in the field. It also includes examples of basic arithmetic operations and data conversions.\n"
          },
          "metadata": {}
        }
      ]
    },
    {
      "cell_type": "markdown",
      "metadata": {
        "id": "ba4ebf17"
      },
      "source": [
        "## Create a markdown cell to list data science languages.\n",
        "\n",
        "\n"
      ]
    },
    {
      "cell_type": "code",
      "metadata": {
        "colab": {
          "base_uri": "https://localhost:8080/",
          "height": 183
        },
        "id": "f43911fc",
        "outputId": "ac4aac94-c44d-4b5f-908f-39a9ee0f9f9c"
      },
      "source": [
        "%%markdown\n",
        "## Data Science Languages\n",
        "\n",
        "Some popular languages for Data Science are:\n",
        "* Python\n",
        "* R\n",
        "* SQL\n",
        "* Julia\n",
        "* Scala"
      ],
      "execution_count": 3,
      "outputs": [
        {
          "output_type": "display_data",
          "data": {
            "text/plain": [
              "<IPython.core.display.Markdown object>"
            ],
            "text/markdown": "## Data Science Languages\n\nSome popular languages for Data Science are:\n* Python\n* R\n* SQL\n* Julia\n* Scala\n"
          },
          "metadata": {}
        }
      ]
    },
    {
      "cell_type": "markdown",
      "metadata": {
        "id": "56206916"
      },
      "source": [
        "## Create a markdown cell to list data science libraries.\n",
        "\n",
        "### Subtask:\n",
        "Create a markdown cell to list data science libraries.\n"
      ]
    },
    {
      "cell_type": "code",
      "metadata": {
        "colab": {
          "base_uri": "https://localhost:8080/",
          "height": 252
        },
        "id": "ceb2a99e",
        "outputId": "35364ad1-dff6-4dc4-a14f-2d967c006250"
      },
      "source": [
        "%%markdown\n",
        "## Data Science Libraries\n",
        "\n",
        "Some of the commonly used libraries used by Data Scientists include:\n",
        "* Pandas\n",
        "* NumPy\n",
        "* SciPy\n",
        "* Scikit-learn\n",
        "* TensorFlow\n",
        "* Keras\n",
        "* PyTorch\n",
        "* Matplotlib\n",
        "* Seaborn"
      ],
      "execution_count": 4,
      "outputs": [
        {
          "output_type": "display_data",
          "data": {
            "text/plain": [
              "<IPython.core.display.Markdown object>"
            ],
            "text/markdown": "## Data Science Libraries\n\nSome of the commonly used libraries used by Data Scientists include:\n* Pandas\n* NumPy\n* SciPy\n* Scikit-learn\n* TensorFlow\n* Keras\n* PyTorch\n* Matplotlib\n* Seaborn\n"
          },
          "metadata": {}
        }
      ]
    },
    {
      "cell_type": "markdown",
      "metadata": {
        "id": "7a3de3fb"
      },
      "source": [
        "## Create a markdown cell with a table of data science tools.\n",
        "\n",
        "### Subtask:\n",
        "Create a markdown cell with a table of Data Science tools.\n"
      ]
    },
    {
      "cell_type": "code",
      "metadata": {
        "colab": {
          "base_uri": "https://localhost:8080/",
          "height": 300
        },
        "id": "900e9eb1",
        "outputId": "c0f9c32f-9c6a-4367-853e-6b4a1609172d"
      },
      "source": [
        "%%markdown\n",
        "\n",
        "| Category             | Tool                     |\n",
        "|----------------------|--------------------------|\n",
        "| Development Environments | Jupyter Notebook         |\n",
        "| Development Environments | RStudio                  |\n",
        "| Development Environments | VS Code                |\n",
        "| Data Management      | MySQL                    |\n",
        "| Data Management      | PostgreSQL               |\n",
        "| Data Management      | MongoDB                  |\n",
        "| Visualization        | Tableau                  |\n",
        "| Visualization        | Power BI                 |\n"
      ],
      "execution_count": 15,
      "outputs": [
        {
          "output_type": "display_data",
          "data": {
            "text/plain": [
              "<IPython.core.display.Markdown object>"
            ],
            "text/markdown": "\n| Category             | Tool                     |\n|----------------------|--------------------------|\n| Development Environments | Jupyter Notebook         |\n| Development Environments | RStudio                  |\n| Development Environments | VS Code                |\n| Data Management      | MySQL                    |\n| Data Management      | PostgreSQL               |\n| Data Management      | MongoDB                  |\n| Visualization        | Tableau                  |\n| Visualization        | Power BI                 |\n"
          },
          "metadata": {}
        }
      ]
    },
    {
      "cell_type": "markdown",
      "metadata": {
        "id": "ca466db7"
      },
      "source": [
        "## Create a markdown cell introducing arithmetic expression examples.\n",
        "\n",
        "### Subtask:\n",
        "Create a markdown cell introducing arithmetic expression examples.\n"
      ]
    },
    {
      "cell_type": "code",
      "metadata": {
        "colab": {
          "base_uri": "https://localhost:8080/",
          "height": 90
        },
        "id": "a856eb0e",
        "outputId": "954c3615-d30a-411c-ceb4-6fe1ba52fc0f"
      },
      "source": [
        "%%markdown\n",
        "## Arithmetic Expression Examples\n",
        "\n",
        "The following code cells will demonstrate simple arithmetic operations like multiplication and addition, and also a conversion from minutes to hours."
      ],
      "execution_count": 6,
      "outputs": [
        {
          "output_type": "display_data",
          "data": {
            "text/plain": [
              "<IPython.core.display.Markdown object>"
            ],
            "text/markdown": "## Arithmetic Expression Examples\n\nThe following code cells will demonstrate simple arithmetic operations like multiplication and addition, and also a conversion from minutes to hours.\n"
          },
          "metadata": {}
        }
      ]
    },
    {
      "cell_type": "markdown",
      "metadata": {
        "id": "9d3833c1"
      },
      "source": [
        "## Create a code cell to multiply and add numbers.\n",
        "\n",
        "### Subtask:\n",
        "Create a code cell to multiply and add numbers.\n"
      ]
    },
    {
      "cell_type": "code",
      "metadata": {
        "colab": {
          "base_uri": "https://localhost:8080/"
        },
        "id": "417f9a8e",
        "outputId": "1123807a-a07a-49db-83b6-8d125e68b6ef"
      },
      "source": [
        "# Define two numbers\n",
        "num1 = 10\n",
        "num2 = 5\n",
        "\n",
        "# Multiply the numbers\n",
        "product = num1 * num2\n",
        "\n",
        "# Add the numbers\n",
        "sum_result = num1 + num2\n",
        "\n",
        "# Print the results\n",
        "print(\"Product:\", product)\n",
        "print(\"Sum:\", sum_result)"
      ],
      "execution_count": 7,
      "outputs": [
        {
          "output_type": "stream",
          "name": "stdout",
          "text": [
            "Product: 50\n",
            "Sum: 15\n"
          ]
        }
      ]
    },
    {
      "cell_type": "markdown",
      "metadata": {
        "id": "853129e4"
      },
      "source": [
        "## Create a code cell to convert minutes to hours.\n",
        "\n",
        "### Subtask:\n",
        "Create a code cell to convert minutes to hours.\n"
      ]
    },
    {
      "cell_type": "code",
      "metadata": {
        "colab": {
          "base_uri": "https://localhost:8080/"
        },
        "id": "5a95962a",
        "outputId": "11f2415f-3629-4e8f-8cff-a8a78f3cb101"
      },
      "source": [
        "# Define minutes\n",
        "minutes = 120\n",
        "\n",
        "# Convert minutes to hours\n",
        "hours = minutes / 60\n",
        "\n",
        "# Print the result\n",
        "print(f\"{minutes} minutes is equal to {hours} hours\")"
      ],
      "execution_count": 8,
      "outputs": [
        {
          "output_type": "stream",
          "name": "stdout",
          "text": [
            "120 minutes is equal to 2.0 hours\n"
          ]
        }
      ]
    },
    {
      "cell_type": "markdown",
      "metadata": {
        "id": "a74a189a"
      },
      "source": [
        "## Create a markdown cell to list objectives.\n",
        "\n",
        "### Subtask:\n",
        "Create a markdown cell to list Objectives.\n"
      ]
    },
    {
      "cell_type": "code",
      "metadata": {
        "colab": {
          "base_uri": "https://localhost:8080/",
          "height": 159
        },
        "id": "fb346da6",
        "outputId": "0e65d260-93f2-495a-c5fd-9d8c88d35328"
      },
      "source": [
        "%%markdown\n",
        "## Objectives\n",
        "\n",
        "- Understand the basics of Markdown in Jupyter Notebooks\n",
        "- Learn to perform simple arithmetic operations in Python\n",
        "- Get familiar with popular Data Science languages\n",
        "- Explore common Data Science libraries and tools\n",
        "- Practice converting units (minutes to hours) using Python\n"
      ],
      "execution_count": 17,
      "outputs": [
        {
          "output_type": "display_data",
          "data": {
            "text/plain": [
              "<IPython.core.display.Markdown object>"
            ],
            "text/markdown": "## Objectives\n\n- Understand the basics of Markdown in Jupyter Notebooks  \n- Learn to perform simple arithmetic operations in Python  \n- Get familiar with popular Data Science languages  \n- Explore common Data Science libraries and tools  \n- Practice converting units (minutes to hours) using Python  \n"
          },
          "metadata": {}
        }
      ]
    },
    {
      "cell_type": "markdown",
      "metadata": {
        "id": "d0a9e2d2"
      },
      "source": [
        "## Create a markdown cell to indicate the author’s name.\n",
        "\n",
        "### Subtask:\n",
        "Create a markdown cell to indicate the Author’s name.\n"
      ]
    },
    {
      "cell_type": "code",
      "metadata": {
        "colab": {
          "base_uri": "https://localhost:8080/",
          "height": 90
        },
        "id": "650f1a92",
        "outputId": "18ace0fa-6f53-4152-e0c4-aaa9bb92be54"
      },
      "source": [
        "%%markdown\n",
        "## Author\n",
        "\n",
        "[Souramay Bhowmik]"
      ],
      "execution_count": 18,
      "outputs": [
        {
          "output_type": "display_data",
          "data": {
            "text/plain": [
              "<IPython.core.display.Markdown object>"
            ],
            "text/markdown": "## Author\n\n[Souramay Bhowmik]\n"
          },
          "metadata": {}
        }
      ]
    }
  ]
}
